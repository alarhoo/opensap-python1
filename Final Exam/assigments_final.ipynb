{
 "cells": [
  {
   "cell_type": "markdown",
   "metadata": {},
   "source": [
    "# Wordle in Python\n",
    "\n",
    "Your task for the final assignment is to implement a Wordle clone in Python. The basis for your version of Wordle is the file `5_letter_words.txt` [1]. It contains more than 5.700 five letter words. In order to build your version of Wordle perform the following steps:\n",
    "\n",
    "1. Implement a function `word_list()` that reads the `5_letter_words.txt` file and returns a list of the words in the file.\n",
    "2. Implement a function `random_word()` that takes a list of words as a parameter and returns a random word from this list.\n",
    "3. Implement a function `is_real_word()` that takes two parameters, a guess and a word list and returns True if the word is in the word list and False otherwise.\n",
    "4. Implement a function `check_guess()` that takes two parameters. The first is the guessed word and the second is the word the user has to find. `check_guess()` returns a string containing the following characters:\n",
    "    * X for each character in the guess that is at the correct position.\n",
    "    * O for each character in the guess that is in the word but not at the correct position.\n",
    "    * _ for each character in the guess that is not part of the word. For example, `check_guess(\"birds\", \"words\")` should return __XXX.\n",
    "    * If a letter is used twice in the guessed word and exists only once in the word to be found, then only one letter in the return string is marked. In case one of the two letters is positioned correctly, then this letter is marked with an X in the return string. For example, `check_guess(\"carat\", \"train\")` should return _OO_O. Another example, `check_guess(\"taunt\", \"train\")` should return XO_O_\n",
    "5. Implement a function `next_guess()` that takes a word list as a parameter. The function asks the user for a guess, converts the guess to lower case and checks if the guess is in the word list. If this is the case, the guess is returned. Otherwise, the function asks the user for another guess.\n",
    "6. Implement a function `play()` that:\n",
    "    * Uses the functions word_list and random_word to select a random 5 letter word.\n",
    "    * Asks the user for a guess using the next_guess function.\n",
    "    * Checks each guess using the check_guess function and shows the result to the user.\n",
    "    * Checks if the users guessed the right word with six guesses or less. If yes, the user wins and the function prints You won!. Otherwise the user loses and the function prints You lost! as well as The word was: followed by word the user had to find.\n",
    "\n",
    "Below is an example execution of the program:\n",
    "\n",
    "```\n",
    "Please enter a guess: aaaaa\n",
    "That's not a real word!\n",
    "Please enter a guess: bbbbb\n",
    "That's not a real word!\n",
    "Please enter a guess: hello\n",
    "____O\n",
    "Please enter a guess: world\n",
    "_OO__\n",
    "Please enter a guess: story\n",
    "O_OO_\n",
    "Please enter a guess: hours\n",
    "_O_OO\n",
    "Please enter a guess: works\n",
    "_OO_O\n",
    "Please enter a guess: crops\n",
    "_OO_O\n",
    "You lost!\n",
    "The word was: visor\n",
    "```\n",
    "\n",
    "And here is another example execution of the program:\n",
    "```\n",
    "Please enter a guess: hello\n",
    "OO___\n",
    "Please enter a guess: there\n",
    "XXX_X\n",
    "Please enter a guess: these\n",
    "XXXXX\n",
    "You won!\n",
    "```\n"
   ]
  },
  {
   "cell_type": "code",
   "execution_count": 6,
   "metadata": {},
   "outputs": [
    {
     "name": "stdout",
     "output_type": "stream",
     "text": [
      "That's not a real word!\n",
      "about\n",
      "O___O\n",
      "tango\n",
      "OX___\n",
      "loves\n",
      "___X_\n",
      "train\n",
      "O_O__\n",
      "books\n",
      "_____\n",
      "taunt\n",
      "OX___\n",
      "You lost!\n",
      "The word was: dated\n"
     ]
    }
   ],
   "source": [
    "import random\n",
    "\n",
    "file_name = '5_letter_words.txt'\n",
    "def word_list():\n",
    "    all_words = [word.strip() for word in open(file_name)]\n",
    "    return all_words\n",
    "\n",
    "def random_word(words_list):\n",
    "    return words_list[random.randint(0, len(words_list) - 1)]\n",
    "\n",
    "def is_real_word(guess_wd, words_list):\n",
    "    return guess_wd in words_list\n",
    "\n",
    "def check_guess(guess_wd, read_wd):\n",
    "    guess_result = ''\n",
    "    for idx, letter in enumerate(guess_wd):\n",
    "        if letter == read_wd[idx]:\n",
    "            guess_result += 'X'\n",
    "        elif letter in read_wd and (guess_wd.index(letter) != idx)\\\n",
    "        and (guess_wd.count(letter) != read_wd.count(letter)):\n",
    "            guess_result += '_'\n",
    "        elif letter in read_wd:\n",
    "            guess_result += 'O'\n",
    "        else:\n",
    "            guess_result += '_'\n",
    "    return guess_result\n",
    "\n",
    "def next_guess(words_list):\n",
    "    guess_word = input('Please enter a guess: ') \n",
    "    guess_word = guess_word.lower()\n",
    "    if not is_real_word(guess_word, words_list):\n",
    "        print(\"That's not a real word!\")\n",
    "        return next_guess(words_list)\n",
    "\n",
    "    print(guess_word)\n",
    "    return guess_word\n",
    "\n",
    "def play():\n",
    "    all_words = word_list()\n",
    "    real_word = random_word(all_words)\n",
    "\n",
    "    for _ in range(6):\n",
    "        guess_word = next_guess(all_words)\n",
    "        guess_result = check_guess(guess_word, real_word)\n",
    "        print(guess_result)\n",
    "        if guess_result == 'XXXXX':\n",
    "            print(\"You won!\")\n",
    "            return\n",
    "    \n",
    "    print(\"You lost!\")\n",
    "    print(\"The word was:\", real_word)\n",
    "\n",
    "play()"
   ]
  },
  {
   "cell_type": "code",
   "execution_count": 4,
   "metadata": {},
   "outputs": [
    {
     "name": "stdout",
     "output_type": "stream",
     "text": [
      "__XXX __XXX\n",
      "_OO_O _OO_O\n",
      "XO_O_ XO_O_\n",
      "_OO__ _OO__\n",
      "XXXXX XXXXX\n",
      "X____ XXXXX\n"
     ]
    }
   ],
   "source": [
    "def check_guess(guess_wd, read_wd):\n",
    "    guess_result = ''\n",
    "    for idx, letter in enumerate(guess_wd):\n",
    "        if letter == read_wd[idx]:\n",
    "            guess_result += 'X'\n",
    "        elif letter in read_wd and (guess_wd.index(letter) != idx) and (guess_wd.count(letter) != read_wd.count(letter)):\n",
    "            guess_result += '_'\n",
    "        elif letter in read_wd:\n",
    "                guess_result += 'O'\n",
    "        else:\n",
    "            guess_result += '_'\n",
    "    return guess_result\n",
    "\n",
    "print(check_guess('birds', 'words'), '__XXX')\n",
    "print(check_guess('carat', 'train'), '_OO_O')\n",
    "print(check_guess('taunt', 'train'), 'XO_O_')\n",
    "print(check_guess('moons', 'taboo'), '_OO__')\n",
    "print(check_guess('bbbbb', 'bbbbb'), 'XXXXX')\n",
    "print(check_guess('about', 'aaaaa'), 'XXXXX')"
   ]
  },
  {
   "cell_type": "code",
   "execution_count": 130,
   "metadata": {},
   "outputs": [
    {
     "data": {
      "text/plain": [
       "True"
      ]
     },
     "execution_count": 130,
     "metadata": {},
     "output_type": "execute_result"
    }
   ],
   "source": [
    "def next_guess(word_list):\n",
    "    guess_word = input('Please enter a guess: ') \n",
    "    guess_word = guess_word.lower()\n",
    "\n",
    "    if is_real_word(guess_word, word_list):\n",
    "        return guess_word\n",
    "    else:\n",
    "        return False\n",
    "\n",
    "is_real_word('about', word_list)"
   ]
  }
 ],
 "metadata": {
  "interpreter": {
   "hash": "369f2c481f4da34e4445cda3fffd2e751bd1c4d706f27375911949ba6bb62e1c"
  },
  "kernelspec": {
   "display_name": "Python 3.10.0 64-bit",
   "language": "python",
   "name": "python3"
  },
  "language_info": {
   "codemirror_mode": {
    "name": "ipython",
    "version": 3
   },
   "file_extension": ".py",
   "mimetype": "text/x-python",
   "name": "python",
   "nbconvert_exporter": "python",
   "pygments_lexer": "ipython3",
   "version": "3.10.0"
  },
  "orig_nbformat": 4
 },
 "nbformat": 4,
 "nbformat_minor": 2
}
