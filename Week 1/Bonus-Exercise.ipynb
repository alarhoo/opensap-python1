{
 "cells": [
  {
   "cell_type": "markdown",
   "metadata": {},
   "source": [
    "A quadratic equation is an equation that can be written as\n",
    "\n",
    "![formula quadratic equation](https://s3.xopic.de/opensap-public/courses/2qRB6Gz3FcfD2OBbnSCf8m/rtfiles/4kJjPFWReIxSEG4dZdkCzo/openSAP_python1_Week_1_BO_formula_1.png)\n",
    "\n",
    "In this equation x represents an unknown number, and a, b, and c are representing known numbers. Possible solutions for a given quadratic equation can be calculated by the formula\n",
    "\n",
    "![formula possible solutions](https://s3.xopic.de/opensap-public/courses/2qRB6Gz3FcfD2OBbnSCf8m/rtfiles/18qGBlkBhfKzZAY3iJjhxK/openSAP_python1_Week_1_BO_formula_2.png)\n",
    "\n",
    "The expression ![formula discriminant](https://s3.xopic.de/opensap-public/courses/2qRB6Gz3FcfD2OBbnSCf8m/rtfiles/2TOSfmopE96QWcl1wsO28x/openSAP_python1_Week_1_BO_formula_3.png) is called the discriminant. Using the discriminant makes it is easy to check the number of solutions for a given quadratic equation:\n",
    "\n",
    "- If the discriminant is 0, the quadratic equation has exactly one real solution.\n",
    "- If the discriminant is > 0, the quadratic equation has two real solutions.\n",
    "- If the discriminant is < 0, the quadratic equation has two complex solutions.\n",
    "\n",
    "Write a program that asks the user for the numbers a, b and c. The program should then print out how many solutions the quadratic equation has."
   ]
  },
  {
   "cell_type": "code",
   "execution_count": 5,
   "metadata": {},
   "outputs": [
    {
     "name": "stdout",
     "output_type": "stream",
     "text": [
      "The quadratic equation has 2 complex solutions.\n"
     ]
    }
   ],
   "source": [
    "a = int(input(\"Please enter the value of a:\"))\n",
    "b = int(input(\"Please enter the value of b:\"))\n",
    "c = int(input(\"Please enter the value of c:\"))\n",
    "\n",
    "discriminant = b * b - (4 * a * c)\n",
    "\n",
    "if discriminant == 0:\n",
    "    solutions = 1\n",
    "    real_or_complex = 'real'\n",
    "elif discriminant > 0:\n",
    "    solutions = 2\n",
    "    real_or_complex = 'real'\n",
    "elif discriminant < 0:\n",
    "    solutions = 2\n",
    "    real_or_complex = 'complex'\n",
    "\n",
    "print('The quadratic equation has', solutions, real_or_complex, 'solutions.')"
   ]
  }
 ],
 "metadata": {
  "interpreter": {
   "hash": "2be5faf79681da6f2a61fdfdd5405d65d042280f7fba6178067603e3a2925119"
  },
  "kernelspec": {
   "display_name": "Python 3.10.0 64-bit",
   "language": "python",
   "name": "python3"
  },
  "language_info": {
   "codemirror_mode": {
    "name": "ipython",
    "version": 3
   },
   "file_extension": ".py",
   "mimetype": "text/x-python",
   "name": "python",
   "nbconvert_exporter": "python",
   "pygments_lexer": "ipython3",
   "version": "3.10.0"
  },
  "orig_nbformat": 4
 },
 "nbformat": 4,
 "nbformat_minor": 2
}
