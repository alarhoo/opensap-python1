{
 "cells": [
  {
   "cell_type": "markdown",
   "metadata": {},
   "source": [
    "Triangles can be classified based on their angles.\n",
    "\n",
    "- A right triangle has one angle of 90°\n",
    "- A obtuse triangle has one angle of more than 90°\n",
    "- A triangle is acute if all three angles are less than 90°\n",
    "\n",
    "Write a program that asks the user for the values of three angles in degrees. First check if the entered values are valid. The values are only valid if they are >0 and if their sum is 180°. If the entered values are valid, classify the triangle as right, acute or obtuse."
   ]
  },
  {
   "cell_type": "code",
   "execution_count": null,
   "metadata": {},
   "outputs": [],
   "source": [
    "value1 = int(input(\"Please enter the first angle:\"))\n",
    "value2 = int(input(\"Please enter the second angle:\"))\n",
    "value3 = int(input(\"Please enter the third angle:\"))\n",
    "\n",
    "if (value1 <= 0 or value2 <= 0 or value3 <= 0):\n",
    "    print(\"Angles smaller than 0 are not valid.\")\n",
    "else:\n",
    "    if value1 + value2 + value3 == 180:\n",
    "        if (value1 == 90 or value2 == 90 or value3 == 90):\n",
    "            triangle = 'right triangle'\n",
    "        elif (value1 > 90 or value2 > 90 or value3 > 90):\n",
    "            triangle = 'obtuse triangle'\n",
    "        else:\n",
    "            triangle = 'acute triangle'\n",
    "        print('The triangle is a', triangle)\n",
    "    else:\n",
    "        print(\"The entered values are not valid.\")"
   ]
  }
 ],
 "metadata": {
  "language_info": {
   "name": "python"
  },
  "orig_nbformat": 4
 },
 "nbformat": 4,
 "nbformat_minor": 2
}
