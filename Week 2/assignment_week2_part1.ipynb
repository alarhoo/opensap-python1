{
 "cells": [
  {
   "cell_type": "markdown",
   "metadata": {},
   "source": [
    "# Instructions:\n",
    "\n",
    "Now you have another chance to earn points towards your record of achievement. Click the button below to open CodeOcean and implement a solution for the assignment. If you want, you can also solve it in a Jupyter Notebook first and copy the solution to CodeOcean afterwards.\n",
    "\n",
    "In this exercise you are going to simulate a sales and operations planning using the zero stock level strategy. Write a Python program that asks the user to enter the following data:\n",
    "\n",
    "- An initial stock level for a product\n",
    "- The number of month(s) to plan\n",
    "- The planned sales quantity for each month\n",
    "\n",
    "Based on this data, calculate the required production quantity as follows:\n",
    "\n",
    "- If the sales quantity is smaller than the stock level of the previous month, the production quantity is 0\n",
    "- If the sales quantity is larger than the stock level of the previous month, the production quantity is this difference"
   ]
  },
  {
   "cell_type": "code",
   "execution_count": 38,
   "metadata": {},
   "outputs": [
    {
     "name": "stdout",
     "output_type": "stream",
     "text": [
      "The resulting production quantities are: \n",
      "Production quantity month 1 - 0\n",
      "Production quantity month 2 - 50\n",
      "Production quantity month 3 - 200\n",
      "Production quantity month 4 - 400\n",
      "Production quantity month 5 - 100\n"
     ]
    }
   ],
   "source": [
    "init_stock_level = int(input(\"Please enter an initial stock level: \"))\n",
    "no_of_months = int(input(\"Please enter the number of month to plan: \"))\n",
    "planned_sales_qty = []\n",
    "\n",
    "while no_of_months > 0:\n",
    "    qty = int(input(\"Please enter the planned sales quantity: \"))\n",
    "    planned_sales_qty.append(qty)\n",
    "    no_of_months -= 1\n",
    "\n",
    "# init_stock_level = 500\n",
    "# planned_sales_qty = [300, 250, 200, 400, 100]\n",
    "\n",
    "stock_level = 0\n",
    "production_qty = 0\n",
    "print(\"The resulting production quantities are: \")\n",
    "\n",
    "for i in range(len(planned_sales_qty)):\n",
    "    stock_level = init_stock_level - planned_sales_qty[i]\n",
    "    if stock_level < 0:\n",
    "        production_qty = -stock_level\n",
    "        stock_level = 0\n",
    "    else:\n",
    "        production_qty = 0\n",
    "    init_stock_level = stock_level\n",
    "    print(\"Production quantity month\", i+1, '-', production_qty)"
   ]
  },
  {
   "cell_type": "markdown",
   "metadata": {},
   "source": [
    "# Instructions:\n",
    "Now you have the chance to earn bonus points towards your record of achievement. Click the button below to open CodeOcean and implement a solution for this optional bonus exercise. If you want, you can also solve it in a Jupyter Notebook first and copy the solution to CodeOcean afterwards.\n",
    "\n",
    "Write a Python program that prints the numbers from 1 to 100. If the number is dividable by 3 print Fizz, if the number is dividable by 5 print Buzz instead of the number. If the number is dividable by 3 and 5 print FizzBuzz."
   ]
  },
  {
   "cell_type": "code",
   "execution_count": 41,
   "metadata": {},
   "outputs": [
    {
     "ename": "SyntaxError",
     "evalue": "invalid syntax (3668339554.py, line 12)",
     "output_type": "error",
     "traceback": [
      "\u001b[1;36m  Input \u001b[1;32mIn [41]\u001b[1;36m\u001b[0m\n\u001b[1;33m    the_result = [i for i in range(1, 101) 'FizzBuzz' if i % 15 == 0 else 'Fizz']\u001b[0m\n\u001b[1;37m                                           ^\u001b[0m\n\u001b[1;31mSyntaxError\u001b[0m\u001b[1;31m:\u001b[0m invalid syntax\n"
     ]
    }
   ],
   "source": [
    "# for i in range(1, 101):\n",
    "#     if i % 3 == 0:\n",
    "#         if i % 5 == 0:\n",
    "#             print('FizzBuzz')\n",
    "#         else:\n",
    "#             print('Fizz')\n",
    "#     elif i % 5 == 0:\n",
    "#         print('Buzz')\n",
    "#     else:\n",
    "#         print(i)\n",
    "\n",
    "the_result = [i for i in range(1, 101) if i % 15 == 0]\n",
    "# the_result = [i for i in range(1, 101) 'FizzBuzz' if i % 15 == 0 else 'Fizz']\n",
    "print(the_result)"
   ]
  }
 ],
 "metadata": {
  "interpreter": {
   "hash": "2be5faf79681da6f2a61fdfdd5405d65d042280f7fba6178067603e3a2925119"
  },
  "kernelspec": {
   "display_name": "Python 3.10.0 64-bit",
   "language": "python",
   "name": "python3"
  },
  "language_info": {
   "codemirror_mode": {
    "name": "ipython",
    "version": 3
   },
   "file_extension": ".py",
   "mimetype": "text/x-python",
   "name": "python",
   "nbconvert_exporter": "python",
   "pygments_lexer": "ipython3",
   "version": "3.10.0"
  },
  "orig_nbformat": 4
 },
 "nbformat": 4,
 "nbformat_minor": 2
}
