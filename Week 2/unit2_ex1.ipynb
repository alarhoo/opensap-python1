{
 "cells": [
  {
   "cell_type": "markdown",
   "metadata": {},
   "source": [
    "Now it's your turn. Click the button below to open CodeOcean and implement a solution for the given exercise. If you want, you can also solve it in a Jupyter Notebook first and copy the solution to CodeOcean afterwards.\n",
    "\n",
    "Below you find a code snippet to create a Python list containing the titles of all Star Wars movies. The list contains:\n",
    "\n",
    "- A list containing the titles of the prequel trilogy: The Phantom Menace, Attack of the Clones, Revenge of the Sith\n",
    "- A list containing the titles of the original trilogy: A New Hope, The Empire Strikes Back, Return of the Jedi,\n",
    "- A list containing the titles of the sequel trilogy: The Force Awakens, The Last Jedi, The Rise of Skywalker\n",
    "\n",
    "Code snippet:\n",
    "\n",
    "```python\n",
    "star_wars_movies = [  \n",
    "[\"The Phantom Menace\", \"Attack of the Clones\", \"Revenge of the Sith\"],  \n",
    "[\"A New Hope\", \"The Empire Strikes Back\", \"Return of the Jedi\"],   \n",
    "[\"The Force Awakens\", \"The Last Jedi\", \"The Rise of Skywalker\"],\n",
    "]\n",
    "```"
   ]
  },
  {
   "cell_type": "markdown",
   "metadata": {},
   "source": [
    "Write a program that asks the user for a number of the trilogy (1, 2 or 3) and the number of the film in this trilogy (1, 2 or 3). Print the title of the film corresponding to the user selection."
   ]
  },
  {
   "cell_type": "code",
   "execution_count": 10,
   "metadata": {},
   "outputs": [],
   "source": [
    "trilogy_num = int(input(\"Please enter a trilogy number:\"))\n",
    "film_num = int(input(\"Please enter a film number:\"))\n",
    "\n",
    "star_wars_movies = [  \n",
    "    [\"The Phantom Menace\", \"Attack of the Clones\", \"Revenge of the Sith\"],  \n",
    "    [\"A New Hope\", \"The Empire Strikes Back\", \"Return of the Jedi\"],   \n",
    "    [\"The Force Awakens\", \"The Last Jedi\", \"The Rise of Skywalker\"],\n",
    "]\n",
    "\n",
    "if (0 < trilogy_num <= 3) and (0 < film_num <= 3):\n",
    "    the_movie = star_wars_movies[trilogy_num - 1][film_num - 1]\n",
    "    print(the_movie)\n"
   ]
  }
 ],
 "metadata": {
  "interpreter": {
   "hash": "2be5faf79681da6f2a61fdfdd5405d65d042280f7fba6178067603e3a2925119"
  },
  "kernelspec": {
   "display_name": "Python 3.10.0 64-bit",
   "language": "python",
   "name": "python3"
  },
  "language_info": {
   "codemirror_mode": {
    "name": "ipython",
    "version": 3
   },
   "file_extension": ".py",
   "mimetype": "text/x-python",
   "name": "python",
   "nbconvert_exporter": "python",
   "pygments_lexer": "ipython3",
   "version": "3.10.0"
  },
  "orig_nbformat": 4
 },
 "nbformat": 4,
 "nbformat_minor": 2
}
