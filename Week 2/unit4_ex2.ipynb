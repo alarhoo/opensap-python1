{
 "cells": [
  {
   "cell_type": "markdown",
   "metadata": {},
   "source": [
    "# Instructions:\n",
    "\n",
    "Now it's your turn. Click the button below to open CodeOcean and implement a solution for the given exercise. If you want, you can also solve it in a Jupyter Notebook first and copy the solution to CodeOcean afterwards.\n",
    "\n",
    "Your are given the following list containing stock symbols, their current price as well as the absolute price change of the previous day:\n",
    "\n",
    "```python\n",
    "stocks = [[\"SAP\", 106, -3.0], [\"AAPL\", 165, 1.25], [\"TSLA\", 860, 54.2], [\"ORCL\", 76, -0.25], [\"ZM\", 114, 6.2]]\n",
    "```\n",
    "\n",
    "As you plan to take some of the profits, write a program that creates a list of all the stock symbols with a change of more than +5 percent. The list should be named `sell_list`. The list should only contain the stock symbol, not the price or the absolute change. Print the resulting list."
   ]
  },
  {
   "cell_type": "code",
   "execution_count": 2,
   "metadata": {},
   "outputs": [
    {
     "name": "stdout",
     "output_type": "stream",
     "text": [
      "['TSLA', 'ZM']\n"
     ]
    }
   ],
   "source": [
    "stocks = [[\"SAP\", 106, -3.0], [\"AAPL\", 165, 1.25], [\"TSLA\", 860, 54.2], [\"ORCL\", 76, -0.25], [\"ZM\", 114, 6.2]]\n",
    "\n",
    "sell_list = []\n",
    "\n",
    "for stock in stocks:\n",
    "    if stock[2] > 5:\n",
    "        sell_list.append(stock[0])\n",
    "\n",
    "print(sell_list)"
   ]
  }
 ],
 "metadata": {
  "interpreter": {
   "hash": "2be5faf79681da6f2a61fdfdd5405d65d042280f7fba6178067603e3a2925119"
  },
  "kernelspec": {
   "display_name": "Python 3.10.0 64-bit",
   "language": "python",
   "name": "python3"
  },
  "language_info": {
   "codemirror_mode": {
    "name": "ipython",
    "version": 3
   },
   "file_extension": ".py",
   "mimetype": "text/x-python",
   "name": "python",
   "nbconvert_exporter": "python",
   "pygments_lexer": "ipython3",
   "version": "3.10.0"
  },
  "orig_nbformat": 4
 },
 "nbformat": 4,
 "nbformat_minor": 2
}
