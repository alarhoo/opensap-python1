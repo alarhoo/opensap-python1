{
 "cells": [
  {
   "cell_type": "markdown",
   "metadata": {},
   "source": [
    "# Instructions:\n",
    "\n",
    "Now it's your turn. Click the button below to open CodeOcean and implement a solution for the given exercise. If you want, you can also solve it in a Jupyter Notebook first and copy the solution to CodeOcean afterwards.\n",
    "\n",
    "Write a program that lets the user input a two-dimensional matrix (Hint: you could use a list of lists to store the matrix). The program should first ask the user how many rows and columns the matrix should contain. Next, the program should ask the user for the elements of the matrix. Your program should read the values from the user row by row. If, for example, the matrix has the dimension 2 by 3, the values should be read as follows:\n",
    "\n",
    "- First row, first value\n",
    "- First row, second value\n",
    "- First row, third value\n",
    "- Second row, first value\n",
    "- Second row, second value\n",
    "- Second row, third value\n",
    "\n",
    "Finally, the program should calculate and print the sums of the values in each row."
   ]
  },
  {
   "cell_type": "code",
   "execution_count": 4,
   "metadata": {},
   "outputs": [
    {
     "name": "stdout",
     "output_type": "stream",
     "text": [
      "[[1, 2, 3], [4, 5, 6], [2, 4, 6]]\n",
      "6\n",
      "15\n",
      "12\n"
     ]
    }
   ],
   "source": [
    "row = int(input(\"Please enter the number of rows in the matrix:\"))\n",
    "column = int(input(\"Please enter the number of columns in the matrix:\"))\n",
    "\n",
    "elements_count = row * column\n",
    "matrix = []\n",
    "\n",
    "print('Enter the matrix values:')\n",
    "for i in range(row):\n",
    "    row_elems = []\n",
    "    for j in range(column):\n",
    "        element = int(input('Value: '))\n",
    "        row_elems.append(element)\n",
    "    matrix.append(row_elems)\n",
    "\n",
    "\n",
    "for rows in matrix:\n",
    "    sum_of_row = 0\n",
    "    for el in rows:\n",
    "        sum_of_row += el\n",
    "    print('Sum of row:', sum_of_row)\n",
    "    "
   ]
  }
 ],
 "metadata": {
  "interpreter": {
   "hash": "2be5faf79681da6f2a61fdfdd5405d65d042280f7fba6178067603e3a2925119"
  },
  "kernelspec": {
   "display_name": "Python 3.10.0 64-bit",
   "language": "python",
   "name": "python3"
  },
  "language_info": {
   "codemirror_mode": {
    "name": "ipython",
    "version": 3
   },
   "file_extension": ".py",
   "mimetype": "text/x-python",
   "name": "python",
   "nbconvert_exporter": "python",
   "pygments_lexer": "ipython3",
   "version": "3.10.0"
  },
  "orig_nbformat": 4
 },
 "nbformat": 4,
 "nbformat_minor": 2
}
