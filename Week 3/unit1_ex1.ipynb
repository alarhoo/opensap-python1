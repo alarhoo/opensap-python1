{
 "cells": [
  {
   "cell_type": "markdown",
   "metadata": {},
   "source": [
    "Write a program that asks the user for given name, surname and field of study for a student. Store this data in a tuple and print the tuple. Below is an example execution of the program.\n",
    "\n",
    "```\n",
    "Please enter the given name of the student: Harry\n",
    "Please enter the surname of the student: Potter\n",
    "Please enter the field of study of the student: Defence Against the Dark Arts\n",
    "('Harry', 'Potter', 'Defence Against the Dark Arts')\n",
    "```"
   ]
  },
  {
   "cell_type": "code",
   "execution_count": null,
   "metadata": {},
   "outputs": [],
   "source": [
    "given_name = input(\"Please enter the given name of the student:\")\n",
    "surname = input(\"Please enter the surname of the student:\")\n",
    "field_of_study = input(\"Please enter the field of study of the student:\")\n",
    "\n",
    "student = (given_name, surname, field_of_study)\n",
    "print(student)"
   ]
  }
 ],
 "metadata": {
  "language_info": {
   "name": "python"
  },
  "orig_nbformat": 4
 },
 "nbformat": 4,
 "nbformat_minor": 2
}
