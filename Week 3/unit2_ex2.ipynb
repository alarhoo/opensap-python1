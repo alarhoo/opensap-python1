{
 "cells": [
  {
   "cell_type": "markdown",
   "metadata": {},
   "source": [
    "One of the nice features of Python is that it supports Unicode. Therefore it is possible to use emojis just like other characters in strings. In this exercise you will use this feature to build an emoji translator.\n",
    "\n",
    "Below is a dictionary that maps English terms to Emojis (broken into multiple lines for better readability).\n",
    "\n",
    "\n",
    "```\n",
    "{\n",
    "\"happy\": \"😃\",\n",
    "\"heart\": \"😍\",\n",
    "\"rotfl\": \"🤣\",\n",
    "\"smile\": \"😊\",\n",
    "\"crying\": \"😭\",\n",
    "\"kiss\": \"😘\",\n",
    "\"clap\": \"👏\",\n",
    "\"grin\": \"😁\",\n",
    "\"fire\": \"🔥\",\n",
    "\"broken\": \"💔\",\n",
    "\"think\": \"🤔\",\n",
    "\"excited\": \"🤩\",\n",
    "\"boring\": \"🙄\",\n",
    "\"winking\": \"😉\",\n",
    "\"ok\": \"👌\",\n",
    "\"hug\": \"🤗\",\n",
    "\"cool\": \"😎\",\n",
    "\"angry\": \"😠\",\n",
    "\"python\": \"🐍\"\n",
    "}  \n",
    "```\n",
    "\n",
    "Use this dictionary to build a program that:\n",
    "\n",
    "Reads a sentence from the user.\n",
    "Replaces all the words in the sentence with the corresponding Emoji.\n",
    "Below is an example execution of the program:\n",
    "\n",
    "```\n",
    "Please enter a sentence: I'm so excited to learn python\n",
    "I'm so 🤩 to finally learn 🐍\n",
    "```\n",
    "\n",
    "## Hint\n",
    "Use the split() method to split a sentence into its words. The result of\n",
    "```python\n",
    "sentence = \"This is a test\"\n",
    "words = sentence.split()\n",
    "print(words)\n",
    "```\n",
    "is\n",
    "```python\n",
    "[\"This\", \"is\", \"a\", \"test\"]\n",
    "```\n",
    "You should also be careful about spaces in the resulting sentence."
   ]
  },
  {
   "cell_type": "code",
   "execution_count": 7,
   "metadata": {},
   "outputs": [
    {
     "name": "stdout",
     "output_type": "stream",
     "text": [
      "🤩\n",
      "🐍\n",
      "I'm so 🤩 to learn 🐍\n"
     ]
    }
   ],
   "source": [
    "emoji_dict = {\n",
    "    \"happy\": \"😃\",\n",
    "    \"heart\": \"😍\",\n",
    "    \"rotfl\": \"🤣\",\n",
    "    \"smile\": \"😊\",\n",
    "    \"crying\": \"😭\",\n",
    "    \"kiss\": \"😘\",\n",
    "    \"clap\": \"👏\",\n",
    "    \"grin\": \"😁\",\n",
    "    \"fire\": \"🔥\",\n",
    "    \"broken\": \"💔\",\n",
    "    \"think\": \"🤔\",\n",
    "    \"excited\": \"🤩\",\n",
    "    \"boring\": \"🙄\",\n",
    "    \"winking\": \"😉\",\n",
    "    \"ok\": \"👌\",\n",
    "    \"hug\": \"🤗\",\n",
    "    \"cool\": \"😎\",\n",
    "    \"angry\": \"😠\",\n",
    "    \"python\": \"🐍\",\n",
    "}\n",
    "\n",
    "sentence = input(\"Please enter a sentence:\")\n",
    "words = sentence.split()\n",
    "\n",
    "output = []\n",
    "for word in words:\n",
    "    if word in emoji_dict:\n",
    "        output.append(emoji_dict[word])\n",
    "    else:\n",
    "        output.append(word)\n",
    "\n",
    "print(\" \".join(output))"
   ]
  }
 ],
 "metadata": {
  "interpreter": {
   "hash": "59ce6dbdd76e776e9e10b49ce982af4e91010ef955c13f95e83c380aeaa49b6f"
  },
  "kernelspec": {
   "display_name": "Python 3.10.1 64-bit",
   "language": "python",
   "name": "python3"
  },
  "language_info": {
   "codemirror_mode": {
    "name": "ipython",
    "version": 3
   },
   "file_extension": ".py",
   "mimetype": "text/x-python",
   "name": "python",
   "nbconvert_exporter": "python",
   "pygments_lexer": "ipython3",
   "version": "3.10.1"
  },
  "orig_nbformat": 4
 },
 "nbformat": 4,
 "nbformat_minor": 2
}
