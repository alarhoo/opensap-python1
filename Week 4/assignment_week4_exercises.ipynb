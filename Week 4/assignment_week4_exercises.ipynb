{
 "cells": [
  {
   "cell_type": "markdown",
   "metadata": {},
   "source": [
    "The file `numbers.txt` contains random integer numbers. There is exactly one number per line. Read the file and output the three biggest numbers in the following form:\n",
    "```\n",
    "2345\n",
    "223\n",
    "89\n",
    "```\n",
    "##### Hint\n",
    "Read the file line by line, delete the line break. As files can only contain strings, the number must now be converted into an integer. Add the number into a list. When all numbers are in the list, sort the list. Then print out the biggest numbers."
   ]
  },
  {
   "cell_type": "code",
   "execution_count": 3,
   "metadata": {},
   "outputs": [
    {
     "name": "stdout",
     "output_type": "stream",
     "text": [
      "100\n",
      "99\n",
      "98\n"
     ]
    }
   ],
   "source": [
    "numbers = []\n",
    "\n",
    "with open('numbers2.txt', 'r') as file:\n",
    "    for line in file:\n",
    "        line = int(line.strip())\n",
    "        numbers.append(line)\n",
    "\n",
    "numbers.sort(reverse=True)\n",
    "\n",
    "print(numbers[0])\n",
    "print(numbers[1])\n",
    "print(numbers[2])"
   ]
  },
  {
   "cell_type": "markdown",
   "metadata": {},
   "source": [
    "The file `numbers.txt` contains numbers. (Actually, the same numbers from the last exercise.) There is exactly one number per line. Read the numbers from the file and write only the even numbers into a new file named `even_numbers.txt`. Again, there should be one number per line. The order of the numbers shall be unchanged. To indicate that the program is finished, print the following output: “List of even numbers created!”\n",
    "\n",
    "### Hint\n",
    "First read all the numbers as explained in the last exercise and put them into a list. Open the new file for writing. Go through the list and check if a number is even. If this is the case, change the integer into a string and do not forget to add a line break. Write this string into the file. Finally implement the print statement.\n",
    "\n",
    "**Please note:**\n",
    "When programming your solution in CodeOcean, files created by your program will not be visible. If you want to check the content of those files, we suggest to let your code run on your machine (e.g. in a Jupyter Notebook) and check the contents of the files there.\n",
    "\n"
   ]
  },
  {
   "cell_type": "code",
   "execution_count": 8,
   "metadata": {},
   "outputs": [
    {
     "name": "stdout",
     "output_type": "stream",
     "text": [
      "[0, 1, 2, 3, 4, 5, 6, 7, 8, 9, 10, 11, 12, 13, 14, 15, 16, 17, 18, 19, 20, 21, 22, 23, 24, 25, 26, 27, 28, 29, 30, 31, 32, 33, 34, 35, 36, 37, 38, 39, 40, 41, 42, 43, 44, 45, 46, 47, 48, 49, 50, 51, 52, 53, 54, 55, 56, 57, 58, 59, 60, 61, 62, 63, 64, 65, 66, 67, 68, 69, 70, 71, 72, 73, 74, 75, 76, 77, 78, 79, 80, 81, 82, 83, 84, 85, 86, 87, 88, 89, 90, 91, 92, 93, 94, 95, 96, 97, 98, 99]\n",
      "List of even numbers created!\n"
     ]
    }
   ],
   "source": [
    "file_contents = []\n",
    "\n",
    "with open('numbers.txt', 'r') as file:\n",
    "    for line in file:\n",
    "        file_contents.append(int(line.strip()))\n",
    "\n",
    "with open('even_numbers.txt', 'w') as file:\n",
    "    for number in file_contents:\n",
    "        if number % 2 == 0:\n",
    "            line = str(number) + '\\n'\n",
    "            file.write(line)\n",
    "    print('List of even numbers created!')"
   ]
  },
  {
   "cell_type": "markdown",
   "metadata": {},
   "source": [
    "The file `invoice_data.txt` contains raw data for an invoice. More precisely, each line contains\n",
    "\n",
    "- the name of an item\n",
    "- how many items are bought\n",
    "- the unit price of the item\n",
    "\n",
    "The three values are separated by a single whitespace. Prepare a beautified output of the file which contains\n",
    "\n",
    "- the name of the item formatted with 15 characters\n",
    "- the number of units with 3 digits\n",
    "- the price per item with 7 digits, 3 digits after the decimal point\n",
    "- the total price (number of items * price per item) with 8 digits in total, 2 digits after the decimal point\n",
    "\n",
    "If there are two lines with the following content “Apple 5 0.99” and “Cherry 2 11.99”, then the beautified output should look as follows:\n",
    "```\n",
    "Apple           15   0.99   14.85\n",
    "Cherry           2  11.99   23.98\n",
    "```\n",
    "### Hint\n",
    "Read the file line by line and create a list of tuples. Each tuple contains the item (string), the number of items (integer) the price per item (float). To identify the individual parts per line, use the method .split(). Prepare an f-string to output the data as specified."
   ]
  },
  {
   "cell_type": "code",
   "execution_count": 66,
   "metadata": {},
   "outputs": [
    {
     "name": "stdout",
     "output_type": "stream",
     "text": [
      "Chair             3   29.99    89.97\n",
      "Table             1  299.00   299.00\n",
      "Sideboard         2  349.00   698.00\n",
      "Shelf            40   90.00  3600.00\n"
     ]
    }
   ],
   "source": [
    "file_contents = []\n",
    "products = []\n",
    "\n",
    "with open('invoice_data.txt', 'r') as file:\n",
    "    for line in file:\n",
    "        line_contents = line.split(\" \")\n",
    "        line_contents = tuple(line_contents)\n",
    "        file_contents.append(line_contents)\n",
    "\n",
    "for i, fc in enumerate(file_contents):\n",
    "    product = (fc[0], int(fc[1]), float(fc[2]))\n",
    "    products.append(product)\n",
    "\n",
    "for product in products:\n",
    "    print(f\"{product[0]:15s} {product[1]:3d} {product[2]:7.2f} {product[1]*product[2]:8.2f}\")"
   ]
  },
  {
   "cell_type": "code",
   "execution_count": 67,
   "metadata": {},
   "outputs": [
    {
     "name": "stdout",
     "output_type": "stream",
     "text": [
      "Chair            3  29.99   89.97\n",
      "Table            1 299.00  299.00\n",
      "Sideboard        2 349.00  698.00\n",
      "Shelf           40  90.00 3600.00\n"
     ]
    }
   ],
   "source": [
    "file_contents = []\n",
    "products = []\n",
    "\n",
    "with open('invoice_data.txt', 'r') as file:\n",
    "    for line in file:\n",
    "        line_contents = line.split(\" \")\n",
    "        line_contents = tuple(line_contents)\n",
    "        file_contents.append(line_contents)\n",
    "\n",
    "for fc in file_contents:\n",
    "    product = (fc[0], int(fc[1]), float(fc[2]))\n",
    "    products.append(product)\n",
    "\n",
    "for product in products:\n",
    "    print(f\"{product[0]:14s} {product[1]:3d} {product[2]:6.2f} {product[1]*product[2]:7.2f}\")"
   ]
  },
  {
   "cell_type": "code",
   "execution_count": 78,
   "metadata": {},
   "outputs": [
    {
     "name": "stdout",
     "output_type": "stream",
     "text": [
      "Chair            3  29.99   89.97\n",
      "Table            1 299.00  299.00\n",
      "Sideboard        2 349.00  698.00\n",
      "Shelf           40  90.00 3600.00\n"
     ]
    }
   ],
   "source": [
    "with open('invoice_data.txt', 'r') as file:\n",
    "    for line in file:\n",
    "        line_contents = line.strip().split(\" \")\n",
    "        line_contents = tuple(line_contents)\n",
    "        product = (line_contents[0], int(line_contents[1]), float(line_contents[2]))\n",
    "        print(f\"{product[0]:14s} {product[1]:3d} {product[2]:6.2f} {product[1]*product[2]:7.2f}\")"
   ]
  },
  {
   "cell_type": "markdown",
   "metadata": {},
   "source": [
    "There is a file `secret.txt`, which contains one character per line. There is a second file `key.txt`, which contains two lines with one number per line (the number could have several digits).\n",
    "\n",
    "The first number `col` represents the number of columns of a grid, the second number `row` represents the number of rows of the grid. The characters of the first file should now be filled into this grid. Take the characters one by one and fill them into a string until the string contains col characters. Append the string to a list.\n",
    "\n",
    "Then create a new string the same way. Continue, until the number of strings is equal to `row`. Now, write all the strings into a file `public.txt`.\n",
    "Open the the file and check the content.\n",
    "\n",
    "**Please note:**   \n",
    "When programming your solution in CodeOcean, files created by your program will not be visible. If you want to check the content of those files, we suggest to let your code run on your machine (e.g. in a Jupyter Notebook) and check the contents of the files there."
   ]
  },
  {
   "cell_type": "code",
   "execution_count": 104,
   "metadata": {},
   "outputs": [
    {
     "name": "stdout",
     "output_type": "stream",
     "text": [
      "[[1, 2], [3, 4], [5, 6], [7, 8], [9]]\n"
     ]
    }
   ],
   "source": [
    "def split(list_a, chunk_size):\n",
    "\n",
    "  for i in range(0, len(list_a), chunk_size):\n",
    "    yield list_a[i:i + chunk_size]\n",
    "\n",
    "chunk_size = 2\n",
    "my_list = [1,2,3,4,5,6,7,8,9]\n",
    "print(list(split(my_list, chunk_size)))\n"
   ]
  },
  {
   "cell_type": "code",
   "execution_count": 121,
   "metadata": {},
   "outputs": [
    {
     "name": "stdout",
     "output_type": "stream",
     "text": [
      "49 20\n",
      ".................................................\n",
      ".................................................\n",
      "...#####..#...#..#####..#...#..#####..#....#.....\n",
      "...#...#..#...#....#....#...#..#...#..##...#.....\n",
      "...#...#..#...#....#....#...#..#...#..#.#..#.....\n",
      "...#####..#####....#....#####..#...#..#..#.#.....\n",
      "...#........#......#....#...#..#...#..#..#.#.....\n",
      "...#........#......#....#...#..#...#..#...##.....\n",
      "...#........#......#....#...#..#####..#....#.....\n",
      ".................................................\n",
      ".................................................\n",
      "...#..#####.....#####..#####..#####..#......#....\n",
      "...#..#.........#......#...#..#...#..#......#....\n",
      "...#..#.........#......#...#..#...#..#......#....\n",
      "...#..#####.....#......#...#..#...#..#......#....\n",
      "...#......#.....#......#...#..#...#..#......#....\n",
      "...#......#.....#......#...#..#...#..#...........\n",
      "...#..#####.....#####..#####..#####..#####..#....\n",
      ".................................................\n",
      ".................................................\n"
     ]
    }
   ],
   "source": [
    "cols = 0\n",
    "rows = 0\n",
    "\n",
    "with open('key.txt', 'r') as file:\n",
    "    key = file.readlines()\n",
    "    cols = int(key[0].strip())\n",
    "    rows = int(key[1].strip())\n",
    "\n",
    "with open('secret.txt', 'r') as file:\n",
    "    secret = []\n",
    "    for line in file:\n",
    "        secret.append(line.strip())\n",
    "    lines = [secret[i:i + cols] for i in range(0, len(secret), cols)]\n",
    "    with open('public.txt', 'w') as public_file:\n",
    "        for line in lines:\n",
    "            public_file.write(''.join(l for l in line) + '\\n')"
   ]
  },
  {
   "cell_type": "markdown",
   "metadata": {},
   "source": [
    "You probably know the game “Paper, Scissors, Rock”. A game for two players. Each player has three options, namely paper, scissors, rock which are formed by the player’s hand. The rules are quite easy: rock beats scissors, scissors beats paper, paper beats rock. If both players have chosen the same object, it’s a draw.\n",
    "\n",
    "In the following, we play 100 consecutive games. Each player has to hand in a file consisting of one letter per line. The letters are either “R”, “P” or “S”.\n",
    "\n",
    "Write a Python Program that reads two files `player1.txt` and `player2.txt`. These files are organized according to the above rules. The program should compare both inputs and calculate how many games have been won by player1, by player2 and how many games ended in a draw. The results are written into a file `result.txt` which looks as follows:\n",
    "```\n",
    "Player1 wins: 23\n",
    "Player2 wins: 48\n",
    "Draws: 29\n",
    "```\n",
    "The sum should always be 100.\n",
    "\n",
    "**Please note:**\n",
    "When programming your solution in CodeOcean, files created by your program will not be visible. If you want to check the content of those files, we suggest to let your code run on your machine (e.g. in a Jupyter Notebook) and check the contents of the files there."
   ]
  },
  {
   "cell_type": "code",
   "execution_count": 134,
   "metadata": {},
   "outputs": [],
   "source": [
    "player1 = []\n",
    "player2 = []\n",
    "p1_wins = 0\n",
    "p2_wins = 0\n",
    "draws = 0\n",
    "\n",
    "with open('player1.txt') as file:\n",
    "    for line in file:\n",
    "        player1.append(line.strip())\n",
    "\n",
    "with open('player2.txt') as file:\n",
    "    for line in file:\n",
    "        player2.append(line.strip())\n",
    "\n",
    "for i in range(len(player1)):\n",
    "    if player1[i] == player2[i]:\n",
    "        draws += 1\n",
    "    elif player1[i] == 'R' and player2[i] == 'S':\n",
    "        p1_wins += 1\n",
    "    elif player1[i] == 'S' and player2[i] == 'P':\n",
    "        p1_wins += 1\n",
    "    elif player1[i] == 'P' and player2[i] == 'R':\n",
    "        p1_wins += 1\n",
    "    else:\n",
    "        p2_wins += 1\n",
    "\n",
    "with open('result.txt', 'w') as file:\n",
    "    file.write(f'Player1 wins: {str(p1_wins)}\\n')\n",
    "    file.write(f'Player2 wins: {str(p2_wins)}\\n')\n",
    "    file.write(f'Draws: {str(draws)}\\n')\n"
   ]
  }
 ],
 "metadata": {
  "interpreter": {
   "hash": "2be5faf79681da6f2a61fdfdd5405d65d042280f7fba6178067603e3a2925119"
  },
  "kernelspec": {
   "display_name": "Python 3.10.0 64-bit",
   "language": "python",
   "name": "python3"
  },
  "language_info": {
   "codemirror_mode": {
    "name": "ipython",
    "version": 3
   },
   "file_extension": ".py",
   "mimetype": "text/x-python",
   "name": "python",
   "nbconvert_exporter": "python",
   "pygments_lexer": "ipython3",
   "version": "3.10.0"
  },
  "orig_nbformat": 4
 },
 "nbformat": 4,
 "nbformat_minor": 2
}
