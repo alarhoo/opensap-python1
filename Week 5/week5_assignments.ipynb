{
 "cells": [
  {
   "cell_type": "markdown",
   "metadata": {},
   "source": [
    "The stopping distance of a car can be calculated using the following [rule of thumb](https://en.wikipedia.org/wiki/Braking_distance#Rules_of_thumb):\n",
    "\n",
    "- The stopping distance of the car is the sum of the reaction path and the brake distance\n",
    "- The reaction path depends on the speed. It can be calculated by the following rule of thumb: The reaction path in meter is equal to the speed in km/h times 3/10. - Example: Speed 50km/h –> reaction path 15m\n",
    "- The brake distance depends as well on the speed. Again there is a rule of thumb which is: brake distance in m is equal to the speed in km/h divided by 10, the result has to be taken by the power of 2 - Example: Speed 50km/h –> (50 / 10)**2 = 25m\n",
    "- The stopping distance for a car with a speed of 50km/h is 15m + 25m = 40m\n",
    "\n",
    "****Implement the following functions to calculate the stopping distance:****\n",
    "\n",
    "- function `reaction_path()` which gets the speed in km/h as input, calculates the reaction path according to the above rule of thumb and returns the path in m\n",
    "- function `brake_distance()` which gets the speed in km/h as input, calculates the brake distance according to the above rule of thumnb and returns the distance in m\n",
    "- function `stopping_distance()` which gets the speed in km/h as input, calls the above functions, adds their return values and returns this sum\n",
    "\n",
    "Get a speed in km/h as input and output the stopping distance in m."
   ]
  },
  {
   "cell_type": "code",
   "execution_count": 6,
   "metadata": {},
   "outputs": [
    {
     "name": "stdout",
     "output_type": "stream",
     "text": [
      "40.0\n"
     ]
    }
   ],
   "source": [
    "def reaction_path(speed):\n",
    "    path = speed * (3/10)\n",
    "    return path\n",
    "\n",
    "def brake_distance(speed):\n",
    "    brake_dist = (speed / 10)**2\n",
    "    return brake_dist\n",
    "\n",
    "def stopping_distance(speed):\n",
    "    return reaction_path(speed) + brake_distance(speed)\n",
    "\n",
    "speedkm = int(input('Enter the speed in KM'))\n",
    "stop_dist = stopping_distance(speedkm)\n",
    "print(stop_dist)"
   ]
  },
  {
   "cell_type": "code",
   "execution_count": 9,
   "metadata": {},
   "outputs": [
    {
     "data": {
      "text/plain": [
       "'0b1000000'"
      ]
     },
     "execution_count": 9,
     "metadata": {},
     "output_type": "execute_result"
    }
   ],
   "source": [
    "n = 64\n",
    "n.bit_length()\n",
    "bin(n)"
   ]
  },
  {
   "cell_type": "markdown",
   "metadata": {},
   "source": [
    "### Vignère Cipher\n",
    "\n",
    "You already implemented a solution for the [Caesar cipher](https://en.wikipedia.org/wiki/Caesar_cipher) in week 3. As this cipher is quite weak, let's turn to another cipher, the [Vignère cipher](https://en.wikipedia.org/wiki/Vigen%C3%A8re_cipher).\n",
    "\n",
    "Like the Caesar cipher, the Vignère cipher is a simple substitution algorithm, that means, each letter is replaced by another letter. In the Caesar cipher, each letter is shifted the same number of times. And this number is the key. In Vignère these number of shifts change from letter to letter. The number of shifts are given by a keyword which is repeated until it matches the length of the text to be encrypted.\n",
    "\n",
    "For simplification we assume, that only letters are encrypted and that we only have to deal with lower case letters. Let's have a look at the following example:\n",
    "\n",
    "![Vignère cipher](https://s3.xopic.de/opensap-public/courses/2qRB6Gz3FcfD2OBbnSCf8m/rtfiles/7eGIYKPpeyL7G50N4GtcdY/table.png)\n",
    "\n",
    "- In the first line there is the clear text.\n",
    "- In the second line there is the repeated keyword `random`.\n",
    "- In the third line the letter from the keyword is replaced by it's position in the alphabet (a: 0, b: 1, c: 2, ... z: 25). As r is on position 17, there is a 17 in the first position of the third row. This position determines how often the corresponding letter from the clear text has to be shifted.\n",
    "- In the fourth line you can see the secret text. The first letter p from the clear text is shifted 17 times and results in g (as the end of the alphabet is already reached after 11 shifts, one starts again at the beginning of the alphabet). The second letter y is shifted 0 times as the a from random is at position 0 of the alphabet. Thus, this y is mapped to y. Important: The blank is not shifted as it is no letter. However the repetition of the keyword in line two is not influenced by that.\n",
    "table\n",
    "\n",
    "**Your Task**\n",
    "\n",
    "Implement a program, that gets a text as input and in addition a keyword, which is the number of shifts.\n",
    "\n",
    "- Implement a function `encrypt_letter()`, that gets a character and the key as input. The return value will be the encrypted character.\n",
    "- Implement a function `calculate_shifts()`, that gets a letter as input parameter and returns the position of this letter in the alphabet (starting with a at position 0):\n",
    "- Implement a function `encrypt_text()`, that gets a text and a keyword as input and returns the encrypted text. This function calls both calculate_shifts() and encrypt_letter()\n",
    "\n",
    "\n",
    "**Hint 1**\n",
    "\n",
    "The function `encrypt_text()` should do the following:\n",
    "\n",
    "- The `encrypt_text()` function should turn the text and the keyword into lower case.\n",
    "- The function steps through the clear text character by character.\n",
    "- A counter is required, which steps through the letters of the keyword.\n",
    "- The counter determines the letter from the keyword, which defines the number of shifts.\n",
    "- The counter is incremented. If the counter is bigger than the length of the keyword , it should be set back to 0. This can be implemented with a simple modulo operation.\n",
    "- The identified character of the keyword is taken as input for the function `calculate_shifts()`\n",
    "- The output of this function is the key, which is the second parameter for the function `encrypt_letter()`. The first parameter is the character, identified at the beginning of this list\n",
    "- The function `encrypt_letter()` should only encrypt letters. If it is called with a special character like 1 or ? it should simply return this character.\n",
    "\n",
    "**Hint 2**\n",
    "\n",
    "To check if a given character is a letter, you can use the string method `.isalpha()`. This methods returns True if all characters in the string are letters. If there is a character, which is not a letter, the method returns False. Example: `\"A\".isalpha()` is True, whereas `\"2\".isalpha()` returns False.\n",
    "\n",
    "**Hint 3**\n",
    "\n",
    "Get both the clear text and the keyword by the `input()` function. The encrypt_text() function should turn the text and the keyword into lower case equivalents using `.lower()`. Finally, print the return value from `encrypt_text()`.\n",
    "\n",
    "**Hint 4**\n",
    "\n",
    "If you want to test your program, the keywords a or Aaa should result in the clear text aaa.\n",
    "\n",
    "*Example*\n",
    "```\n",
    "Which text should be encrypted: Python is Really Beautiful\n",
    "Which keyword should be used? Random\n",
    "gygkcz if fqrlyb nvahwwrll\n",
    "```"
   ]
  },
  {
   "cell_type": "code",
   "execution_count": 88,
   "metadata": {},
   "outputs": [
    {
     "name": "stdout",
     "output_type": "stream",
     "text": [
      "gygkcz if fqrlyb nvahwwrll\n"
     ]
    }
   ],
   "source": [
    "text_input = input(\"Which text should be encrypted: \")\n",
    "keyword_input = input(\"Which keyword should be used?\")\n",
    "\n",
    "def calculate_shifts(letter):\n",
    "    alpha_dict = {'a': 0, 'b': 1, 'c': 2, 'd': 3, 'e': 4, 'f': 5, 'g': 6, 'h': 7, 'i': 8, 'j': 9, \\\n",
    "    'k': 10, 'l': 11, 'm': 12, 'n': 13, 'o': 14, 'p': 15, 'q': 16, 'r': 17, 's': 18, 't': 19, \\\n",
    "    'u': 20, 'v': 21, 'w': 22, 'x': 23, 'y': 24, 'z': 25}\n",
    "    return alpha_dict[letter]\n",
    "\n",
    "def encrypt_letter(char, key):\n",
    "    if char.isalpha():\n",
    "        alphabet = ['a', 'b', 'c', 'd', 'e', 'f', 'g', 'h', 'i', 'j', 'k', 'l', 'm', 'n', 'o', 'p', \\\n",
    "    'q', 'r', 's', 't', 'u', 'v', 'w', 'x', 'y', 'z']\n",
    "        encrypted_letter = alphabet[(alphabet.index(char) + key) % 26]\n",
    "    else:\n",
    "        encrypted_letter = char\n",
    "    return encrypted_letter\n",
    "\n",
    "def encrypt_text(text, keyword):\n",
    "    text = text.lower()\n",
    "    keyword = keyword.lower()\n",
    "    secret = ''\n",
    "    for i, letter in enumerate(text):\n",
    "        if letter.isalpha():\n",
    "            shift = calculate_shifts(keyword[i % len(keyword)])\n",
    "            secret += encrypt_letter(letter, shift)\n",
    "        else:\n",
    "            secret += letter\n",
    "      \n",
    "    return secret\n",
    "\n",
    "print(encrypt_text(text_input, keyword_input))"
   ]
  },
  {
   "cell_type": "markdown",
   "metadata": {},
   "source": [
    "# Bonus Exercise Week 5\n",
    "\n",
    "[Prime numbers](https://en.wikipedia.org/wiki/Prime_number) are natural numbers greater than 1 which are not divisible by any number beside 1 and the number itself. In other words, the number cannot be composed as a product of two natural numbers other than 1 and the number itself. There are infinite prime numbers and the first ones are:\n",
    "\n",
    "2, 3, 5, 7, 11, …\n",
    "\n",
    "Write a program, that gets an integer through input and creates a list containing all prime numbers until this input. To do so, two functions have to be implemented:\n",
    "\n",
    "The function `is_prime()` gets an integer as input and returns True if this integer is prime, and False if the integer is not prime.\n",
    "The function `prime_list()` gets an integer as input and checks each number from 2 to input, if it is prime by calling the above function. If a number is prime, it is appended to a list. This list is given back as the return value of `prime_list()`.\n",
    "The program finally outputs the list of all prime numbers.\n",
    "\n",
    "**Example 1:**\n",
    "```\n",
    "Up to which number do you want all prime numbers: 100\n",
    "[2, 3, 5, 7, 11, 13, 17, 19, 23, 29, 31, 37, 41, 43, 47, 53, 59, 61, 67, 71, 73, 79, 83, 89, 97]\n",
    "```\n",
    "\n",
    "**Example 2:**\n",
    "```\n",
    "Up to which number do you want all prime numbers: 13\n",
    "[2, 3, 5, 7, 11, 13]\n",
    "```"
   ]
  },
  {
   "cell_type": "code",
   "execution_count": 126,
   "metadata": {},
   "outputs": [
    {
     "name": "stdout",
     "output_type": "stream",
     "text": [
      "[2, 3, 5, 7, 11, 13, 17, 19, 23, 29, 31, 37, 41, 43, 47, 53, 59, 61, 67, 71, 73, 79, 83, 89, 97]\n"
     ]
    }
   ],
   "source": [
    "prime_limit = int(input(\"Up to which number do you want all prime numbers: \"))\n",
    "\n",
    "def is_prime(num):\n",
    "    if num <= 1:\n",
    "        return False\n",
    "    elif num == 2 or num == 3:\n",
    "        return True\n",
    "    else:\n",
    "        is_prime_num = True\n",
    "        for i in range(2, num):\n",
    "            if (num % i) == 0:\n",
    "                is_prime_num = False\n",
    "                break\n",
    "        return is_prime_num\n",
    "\n",
    "def prime_list(limit):\n",
    "    prime_numbers = []\n",
    "    for n in range(2, limit+1):\n",
    "        if is_prime(n):\n",
    "            prime_numbers.append(n)\n",
    "    return prime_numbers\n",
    "\n",
    "values = prime_list(prime_limit)\n",
    "print(values)"
   ]
  }
 ],
 "metadata": {
  "interpreter": {
   "hash": "59ce6dbdd76e776e9e10b49ce982af4e91010ef955c13f95e83c380aeaa49b6f"
  },
  "kernelspec": {
   "display_name": "Python 3.10.1 64-bit",
   "language": "python",
   "name": "python3"
  },
  "language_info": {
   "codemirror_mode": {
    "name": "ipython",
    "version": 3
   },
   "file_extension": ".py",
   "mimetype": "text/x-python",
   "name": "python",
   "nbconvert_exporter": "python",
   "pygments_lexer": "ipython3",
   "version": "3.10.1"
  },
  "orig_nbformat": 4
 },
 "nbformat": 4,
 "nbformat_minor": 2
}
