{
 "cells": [
  {
   "cell_type": "markdown",
   "metadata": {},
   "source": [
    "# Examples of non-standard libraries\n",
    "\n",
    "There are many popular libraries which are not part of the default Python installation. You learned how to find and\n",
    "install them in the previous unit. Now a few libraries are presented. Note that this unit will not give \n",
    "a complete introduction in any of these libraries. Instead the goal of this unit is to give an overview \n",
    "of the large variety of available libraries. \n",
    "\n",
    "\n",
    "## [requests](https://docs.python-requests.org/en/latest/) - HTTP for Humans\n",
    "\n",
    "Using the `requests` library, you can connect to web servers and fetch their content.\n",
    "The [Quickstart Guide](https://docs.python-requests.org/en/latest/user/quickstart/)\n",
    "contains examples on how to use it and what you can do with it."
   ]
  },
  {
   "cell_type": "code",
   "execution_count": 1,
   "metadata": {},
   "outputs": [
    {
     "name": "stdout",
     "output_type": "stream",
     "text": [
      "The word 'Python' is used 1379 times in its Wikipedia entry!\n"
     ]
    }
   ],
   "source": [
    "import requests\n",
    "\n",
    "r = requests.get(\"https://en.wikipedia.org/wiki/Python_(programming_language)\")\n",
    "print(\n",
    "    f\"The word 'Python' is used {r.text.count('Python')} times in its Wikipedia entry!\"\n",
    ")"
   ]
  },
  {
   "cell_type": "markdown",
   "metadata": {},
   "source": [
    "## [BeautifulSoup](https://www.crummy.com/software/BeautifulSoup/bs4/doc/) - Analyzing Webpages\n",
    "\n",
    "BeautifulSoup is a library which perfectly complements requests, the library just introduced. Whereas requests offers the possibility to download webpages, BeautifulSoup supports the analysis of these webpages. (Actually, the name *BeautifulSoup* goes back to syntactically incorrect webpages containing just a \"soup of tags\"). \n",
    "\n",
    "In the following cell, the web-page from [The Guardian](https://www.theguardian.com) is first downloaded with `request.get()`. The content is then analyzed using `BeautifulSoup()`. With the help of the method `.find_all()` all headings of type `h3` are then listed and printed out."
   ]
  },
  {
   "cell_type": "code",
   "execution_count": 2,
   "metadata": {},
   "outputs": [
    {
     "name": "stdout",
     "output_type": "stream",
     "text": [
      "Live  Russia-Ukraine war: hundreds of Ukrainian fighters evacuated from Azovstal; EU to support Finland and Sweden Nato bid \n",
      "Live  Russia-Ukraine war: hundreds of Ukrainian fighters evacuated from Azovstal; EU to support Finland and Sweden Nato bid \n",
      "UK  Homes for Ukraine: refugees being left homeless, community groups warn \n",
      "UK  Homes for Ukraine: refugees being left homeless, community groups warn \n",
      "‘I look at my government differently’  Losses in Ukraine test Russians’ faith \n",
      "‘I look at my government differently’  Losses in Ukraine test Russians’ faith \n",
      "Azovstal  Hundreds of Ukrainian troops evacuated from steelworks after 82-day assault  \n",
      "Azovstal  Hundreds of Ukrainian troops evacuated from steelworks after 82-day assault  \n",
      "At a glance  What we know on day 83 of the invasion \n",
      "Nato  Turkey says it will not approve Sweden and Finland joining alliance \n",
      "Russia  Putin involved in war ‘at level of colonel or brigadier’, say western sources \n",
      "‘I’ll always find my way home’  Eurovision winners sing at Polish border on way back to Ukraine \n",
      "Buffalo shooting  Gunman ‘plotted attack for months’ \n",
      "Libya  Clashes in Tripoli as would-be prime minister attempts to claim power \n",
      "Brexit  UK to table bill to scrap Northern Ireland protocol, Liz Truss says \n",
      "US church shooting   Police say suspect was motivated by hate for Taiwanese people \n",
      "'Test tourism'  Japan prepares to reopen to visitors for first time since 2020 \n",
      "Drugs   Smuggling tunnel with rail system uncovered on US-Mexico border \n",
      "Twitter  Elon Musk: deal cannot progress without proof on bot numbers \n",
      "‘Wagatha Christie’ trial  Wayne Rooney had ‘awkward’ chat with Jamie Vardy about wife’s column, court told \n",
      "China  World’s highest jailing rate found in Uyghur county, data leak suggests \n",
      "Osteoporosis  Patients should not be afraid to exercise regularly, say experts \n",
      "New rules of the office  Hot desking, tea rounds and surviving meetings IRL \n",
      "‘I saw two Tory whips having tequila for breakfast’  Margaret Beckett on Blair, the Iraq war and half a century in politics \n",
      "How to eat healthily  How to trick your brain into better eating habits \n",
      "The ‘Spider-Man’ of Sudan  Masked activist becomes symbol of resistance \n",
      "Kasabian on sacking their frontman  ‘It was like seeing your house burn down’ \n",
      "Who owns Einstein?  Battle for the world’s most famous face \n",
      "Move over Cannes  10 of Europe’s best summer film festivals \n",
      "‘It’s a bribe’  The coastal areas that could become UK’s nuclear dump \n",
      "  \n",
      "\n",
      "\n",
      "  Why homophobia against straight men matters \n",
      "  \n",
      "\n",
      "\n",
      "  Israel knows it will get away with the attack on Shireen Abu Aqleh’s funeral \n",
      "  \n",
      "\n",
      "\n",
      "  When people use foodbanks, it’s not because they’ve lost their copy of Nigella \n",
      "  \n",
      "\n",
      "\n",
      "  I’m sure rightwingers read books. But you’ll never meet one at a literary festival \n",
      "  \n",
      "\n",
      "\n",
      "  The days of nul points are over! Plucky little Britain has cornered the Eurovision sympathy vote \n",
      "Race  \n",
      "\n",
      "\n",
      "  From Jim Crow to Buffalo, replacement theory’s trail of destruction runs across American history \n",
      "David Squires on …   Boos and bangers as Liverpool win the FA Cup \n",
      "  \n",
      "\n",
      "\n",
      "  A message to Jake Daniels: thank you for your leadership \n",
      "Exclusive  Harrison steps down as ECB chief executive amid England overhaul \n",
      "Allan McGregor  \n",
      "\n",
      "\n",
      "  Rangers in the Europa League final shouldn’t really happen \n",
      "NBA conference finals predictions  Warriors primed for title charge \n",
      "Juventus 2-2 Lazio  Juve held amid tearful farewells for Chiellini and Dybala \n",
      "  \n",
      "\n",
      "\n",
      "  Clarke played a game that trivialised rape: England cricket should demand better \n",
      "New balls please  Counties receive fresh batch after Dukes go soft \n",
      "Exclusive  Shut down fossil fuel production sites early to avoid climate chaos, says study \n",
      "Alok Sharma  Breaking climate vows would be ‘monstrous self-harm’, warns Cop26 president \n",
      "Antarctica  Endurance shipwreck threatened by global heating, says marine archaeologist \n",
      "Rivers  Record number of dams removed from Europe’s rivers in 2021  \n",
      "Cuba  Parliament approves penal code which activists warn curbs dissent \n",
      "Afghanistan  Taliban dissolves human rights commission as ‘unnecessary’ \n",
      "The Queen  Monarch makes surprise appearance at Elizabeth line opening ceremony in London \n",
      "Indigenous peoples  ‘Jurisdictional maze’ hinders investigation of sexual violence against Native women, report says \n",
      "Exclusive  Women almost twice as likely to be trapped in crashed vehicle, study finds \n",
      "Ricky Gardiner  Guitarist for David Bowie and Iggy Pop dies aged 73 \n",
      "UK weather  Britain set for hottest day of 2022 so far as temperatures to hit 26C \n",
      "Live  Business: regular pay lagging behind inflation as UK unemployment falls to lowest since 1974 \n",
      "North Korea  Don’t accidentally hire hackers working for Kim Jong-un’s regime, FBI warns  \n",
      "New Zealand  Banks predict 20% drop in house prices over next year \n",
      "Pushing Buttons  What the EA-Fifa split means for fans \n",
      "Vampyr review  Dreyer’s hallucinatory undead classic comes back from the grave \n",
      "Ed Gamble  ‘Terrifying ego and an astonishing lack of self-esteem got me into comedy’ \n",
      "Book of the day  Lacuna by Fiona Snyckers review – a heavy-handed response to JM Coetzee’s Disgrace  \n",
      "Books  Thrillers of the month – review \n",
      "The Sadness review  Unapologetically yucky gorefest turns into pandemic allegory \n",
      "Gua sha  From blotchy bruising to a beauty trend de jour \n",
      "  What I learned about street harassment after I transitioned \n",
      "How to eat healthily  How timing your meals right can benefit your health  \n",
      "How we met  \n",
      "\n",
      "\n",
      "  The five-hour flight raced by. As we started our descent, he kissed me \n",
      "The new flexitarian  Thomasina Miers’ recipe for crab pasta al ajillo \n",
      "Patch me if you can  How to mend clothes – creatively \n",
      "‘A lot of forced birth’  Abortion providers’ predictions for a post-Roe America  \n",
      "US  How it is failing female veterans suffering illness from toxic burn pits \n",
      "US politics  Karine Jean-Pierre makes history but inherits a world of trouble \n",
      "‘We need to stand up’  Democrats criticized for inaction on abortion \n",
      "‘It’s harmful and humiliating’  How Amber Heard’s haters undermine the victims of domestic violence \n",
      "‘The only game in town’  John Oliver on the power of US utility companies  \n",
      "Finland and Sweden  How do you feel about your countries and Nato membership? \n",
      "Russians  Tell us what the mood is like in your country \n",
      "Tell us  How have you been affected by the situation in Ukraine? \n",
      "Get in touch  Share a story with the Guardian \n",
      "Mariupol  Rain of munition cascades on to Azovstal steelworks \n",
      "'Any victory is important'  Ukraine wins Eurovision 2022 \n",
      "'Half of America deprived of hope'  Thousands rally for abortion rights across the US \n",
      "'Historic day'  Finland's leaders confirm intention to join Nato \n",
      "Palestinian territories  Israeli police ​attack funeral procession of killed journalist Shireen Abu Aqleh \n",
      "Philippines  Protests erupt as son of late dictator wins presidency \n",
      "Putin's Russia  From KGB agent to Kremlin operator  \n",
      "‘They want to destroy our culture’  Russian strike hits museum in Ukrainian town \n",
      "Made in London  Solidarity Britannia \n",
      "Table for one  Eating alone in public \n",
      "Monday’s best photos   A Ukrainian convoy and a dust storm  \n",
      "The moon  Super flower blood moon \n",
      "Art  Si Jubb’s found treasures restored \n",
      "Billboard music awards 2022  Machine Gun Kelly, Megan Fox, Jack Harlow and more – in pictures  \n",
      "The big picture  Space-hopping into the future in 1970s Newcastle \n",
      "Live  Russia-Ukraine war: hundreds of Ukrainian fighters evacuated from Azovstal; EU to support Finland and Sweden Nato bid – live \n",
      "  ‘I look at my government differently’: losses in Ukraine test Russians’ faith \n",
      "  Hundreds of Ukrainian troops evacuated from Mariupol steelworks after 82-day assault  \n",
      "  Putin involved in war ‘at level of colonel or brigadier’, say western sources \n",
      "  Turkey says it will not approve Sweden and Finland joining Nato \n",
      "  Ferdinand Marcos Jr urged to stop pretending he has an Oxford degree \n",
      "  Russia-Ukraine war: what we know on day 83 of the invasion \n",
      "  More than 260 troops evacuated from steelworks – as it happened \n",
      "  Japan prepares to reopen to tourists for first time since 2020 \n",
      "  New Zealand banks predict 20% drop in house prices over next year \n"
     ]
    }
   ],
   "source": [
    "import requests\n",
    "from bs4 import BeautifulSoup\n",
    "\n",
    "r = requests.get(\"http://www.theguardian.com\")\n",
    "soup = BeautifulSoup(r.text)\n",
    "\n",
    "for title in soup.find_all(\"h3\"):\n",
    "    print(title.text)"
   ]
  },
  {
   "cell_type": "markdown",
   "metadata": {},
   "source": [
    "## [tkinter](https://docs.python.org/3/library/tkinter.html) - Python interface to Tcl/Tk\n",
    "\n",
    "With `tkinter` you can create a graphical user interface (*GUI*) to extend your program. The\n",
    "[documentation](https://tkdocs.com/index.html) offers a detailed description how to start and how to use it. In the\n",
    "example below, a very basic program is shown to create a window containing a text and a button to close it."
   ]
  },
  {
   "cell_type": "code",
   "execution_count": 3,
   "metadata": {},
   "outputs": [
    {
     "name": "stdout",
     "output_type": "stream",
     "text": [
      "Button was pressed\n"
     ]
    }
   ],
   "source": [
    "from tkinter import *\n",
    " \n",
    "window = Tk()\n",
    "window.title(\"GUI created with tkinter\")\n",
    "window.geometry(\"400x300\")\n",
    "\n",
    "def function_button_1():\n",
    "    print(\"Button was pressed\")\n",
    "    \n",
    "def function_button_2():\n",
    "    window.destroy()\n",
    "\n",
    "btn_1 = Button(window, \n",
    "             text=\"This is a Button\", \n",
    "             background = \"yellow\", \n",
    "             command = function_button_1)\n",
    "btn_1.grid(column=0, row=1)\n",
    "\n",
    "btn_2 = Button(window, \n",
    "             text=\"Quit\", \n",
    "             background = \"red\", \n",
    "             command = function_button_2)\n",
    "btn_2.grid(column=1, row=1)\n",
    "             \n",
    "window.mainloop()"
   ]
  },
  {
   "cell_type": "markdown",
   "metadata": {},
   "source": [
    "## Working with large data sets\n",
    "\n",
    "### [Pandas](https://pandas.pydata.org/) - Python Data Analysis Library\n",
    "\n",
    "The Python module `pandas` can be used to process data sets, which size is only limited by the memory of your computer.\n",
    "It provides methods and functions to analyze and visualize these data sets. \n",
    "\n",
    "In the next cells, you can see some brief basic usage examples how to use `pandas`. The data used in this example\n",
    "contains angular rate and acceleration measurements from an IMU *(Intertial Measuremnt Unit)* which \n",
    "was sampled with 1 kHz (1.000 measurements per second).\n",
    "\n",
    "With `head(`*`x`*`)` and `tail(`*`x`*`)`, you can return the first/last *x* lines of your data."
   ]
  },
  {
   "cell_type": "code",
   "execution_count": 5,
   "metadata": {},
   "outputs": [
    {
     "name": "stdout",
     "output_type": "stream",
     "text": [
      "<class 'pandas.core.frame.DataFrame'>\n",
      "RangeIndex: 100000 entries, 0 to 99999\n",
      "Data columns (total 6 columns):\n",
      " #   Column           Non-Null Count   Dtype  \n",
      "---  ------           --------------   -----  \n",
      " 0   X_GYRO (32 bit)  100000 non-null  float64\n",
      " 1   Y_GYRO (32 bit)  100000 non-null  float64\n",
      " 2   Z_GYRO (32 bit)  100000 non-null  float64\n",
      " 3   X_ACCL (32 bit)  100000 non-null  float64\n",
      " 4   Y_ACCL (32 bit)  100000 non-null  float64\n",
      " 5   Z_ACCL (32 bit)  100000 non-null  float64\n",
      "dtypes: float64(6)\n",
      "memory usage: 4.6 MB\n",
      "None\n",
      "   X_GYRO (32 bit)  Y_GYRO (32 bit)  Z_GYRO (32 bit)  X_ACCL (32 bit)  \\\n",
      "0        -0.153669         0.135971         0.012654        -0.014472   \n",
      "1        -0.151507        -0.060998         0.032467        -0.012555   \n",
      "\n",
      "   Y_ACCL (32 bit)  Z_ACCL (32 bit)  \n",
      "0        -0.008335         1.000984  \n",
      "1        -0.010355         1.002156  \n"
     ]
    }
   ],
   "source": [
    "import pandas as pd\n",
    "\n",
    "dataframe = pd.read_csv(\"gyro_accel.csv\", sep=\";\")\n",
    "\n",
    "print(dataframe.info())\n",
    "\n",
    "print(dataframe.head(2))"
   ]
  },
  {
   "cell_type": "markdown",
   "metadata": {},
   "source": [
    "Or you can just select and print one specific column of your data:"
   ]
  },
  {
   "cell_type": "code",
   "execution_count": 6,
   "metadata": {},
   "outputs": [
    {
     "name": "stdout",
     "output_type": "stream",
     "text": [
      "0        1.000984\n",
      "1        1.002156\n",
      "2        1.003313\n",
      "3        1.002596\n",
      "4        1.003230\n",
      "           ...   \n",
      "99995    1.003572\n",
      "99996    1.002047\n",
      "99997    1.002171\n",
      "99998    1.002084\n",
      "99999    1.002361\n",
      "Name: Z_ACCL (32 bit), Length: 100000, dtype: float64\n"
     ]
    }
   ],
   "source": [
    "print(dataframe[\"Z_ACCL (32 bit)\"])"
   ]
  },
  {
   "cell_type": "markdown",
   "metadata": {},
   "source": [
    "You could calculate the mean value of your columns iterating through your data yourself, but with `pandas`, this takes\n",
    "just one function call:"
   ]
  },
  {
   "cell_type": "code",
   "execution_count": 7,
   "metadata": {},
   "outputs": [
    {
     "name": "stdout",
     "output_type": "stream",
     "text": [
      "X_GYRO (32 bit)   -0.158268\n",
      "Y_GYRO (32 bit)   -0.002482\n",
      "Z_GYRO (32 bit)   -0.032981\n",
      "X_ACCL (32 bit)   -0.013359\n",
      "Y_ACCL (32 bit)   -0.009486\n",
      "Z_ACCL (32 bit)    1.001941\n",
      "dtype: float64\n"
     ]
    }
   ],
   "source": [
    "mean_values = dataframe.mean()\n",
    "print(mean_values)"
   ]
  },
  {
   "cell_type": "markdown",
   "metadata": {},
   "source": [
    "## [Matplotlib](https://matplotlib.org/) - Visualization with Python\n",
    "\n",
    "With `matplotlib` you can create graphs to visualize your data. It works seamlessly with `pandas`\n",
    "and is set as a default library for plotting graphs in pandas. Have a look at the next cell to see an example visualizing\n",
    "the angular rate with a dashed line indicating the mean value."
   ]
  },
  {
   "cell_type": "code",
   "execution_count": 8,
   "metadata": {},
   "outputs": [
    {
     "data": {
      "image/png": "[encoded data removed]",
      "text/plain": [
       "<Figure size 864x432 with 1 Axes>"
      ]
     },
     "metadata": {
      "needs_background": "light"
     },
     "output_type": "display_data"
    }
   ],
   "source": [
    "import matplotlib.pyplot as plt\n",
    "\n",
    "# set plot size for good visibility\n",
    "plt.figure(figsize=(12, 6))\n",
    "\n",
    "dataframe[\"Z_GYRO (32 bit)\"].plot(color=\"blue\")\n",
    "\n",
    "# plot mean line for z_gyro values and show plot\n",
    "plt.axhline(y=mean_values[2], color=\"red\", linewidth=2, linestyle=\"--\")\n",
    "plt.show()"
   ]
  },
  {
   "cell_type": "markdown",
   "metadata": {},
   "source": [
    "Of course, it is also possible to use `matplotlib` directly. in the following cell a large number of normally \n",
    "distribute values are generated. These values are then displayed using a histogram."
   ]
  },
  {
   "cell_type": "code",
   "execution_count": 9,
   "metadata": {},
   "outputs": [
    {
     "name": "stdout",
     "output_type": "stream",
     "text": [
      "[66.83335971222212, 85.60804274077624, 112.30834348985886, 117.9439400661864, 87.927710946247, 110.17158110336685, 92.33198595136612, 105.08080118787116, 64.42220590602862, 93.70598570817074]\n"
     ]
    },
    {
     "data": {
      "image/png": "[encoded data removed]",
      "text/plain": [
       "<Figure size 432x288 with 1 Axes>"
      ]
     },
     "metadata": {
      "needs_background": "light"
     },
     "output_type": "display_data"
    }
   ],
   "source": [
    "import random\n",
    "import matplotlib.pyplot as plt\n",
    "\n",
    "random_values = []\n",
    "for _ in range(100000):\n",
    "    random_values.append(random.gauss(mu=100, sigma=20))\n",
    "\n",
    "print(random_values[:10])\n",
    "\n",
    "plt.hist(random_values, bins=500, alpha=0.5)\n",
    "plt.ylabel(\"count\")\n",
    "plt.grid(True)"
   ]
  },
  {
   "cell_type": "code",
   "execution_count": null,
   "metadata": {},
   "outputs": [],
   "source": []
  }
 ],
 "metadata": {
  "interpreter": {
   "hash": "b89b5cfaba6639976dc87ff2fec6d58faec662063367e2c229c520fe71072417"
  },
  "kernelspec": {
   "display_name": "Python 3",
   "language": "python",
   "name": "python3"
  },
  "language_info": {
   "codemirror_mode": {
    "name": "ipython",
    "version": 3
   },
   "file_extension": ".py",
   "mimetype": "text/x-python",
   "name": "python",
   "nbconvert_exporter": "python",
   "pygments_lexer": "ipython3",
   "version": "3.10.1"
  }
 },
 "nbformat": 4,
 "nbformat_minor": 2
}
