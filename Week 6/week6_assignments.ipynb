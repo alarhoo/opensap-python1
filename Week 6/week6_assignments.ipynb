{
 "cells": [
  {
   "cell_type": "markdown",
   "metadata": {},
   "source": [
    "Import the `random` library and have a look at the function `gauss()` which gives back a random float number. Which parameters are required? Write a function `gaussian_distribution()` that returns a list of 1000 random numbers with a mean of 100 and a standard deviation of 10. Invoke this function.\n",
    "\n",
    "For the resulting list calculate and print the mean and the standard deviation using the respective functions from the `statistics` library. Re-run the program and observe, if the values change.\n",
    "\n",
    "Below is the output of an example execution of the program. Note that the values of the standard derivation and the mean might be different in your case.\n",
    "```\n",
    "Mean: 100.15215154056546\n",
    "Standard Deviation: 9.93532937167394\n",
    "```"
   ]
  },
  {
   "cell_type": "code",
   "execution_count": 32,
   "metadata": {},
   "outputs": [
    {
     "name": "stdout",
     "output_type": "stream",
     "text": [
      "Mean: 100.25081893961492\n",
      "Standard Deviation: 10.006211691751254\n"
     ]
    }
   ],
   "source": [
    "import random\n",
    "import statistics as s\n",
    "\n",
    "mu = 100\n",
    "sigma = 10\n",
    "\n",
    "def gaussian_distribution():\n",
    "    random_numbers = [random.gauss(mu, sigma) for _ in range(1, 1001)]\n",
    "    return random_numbers\n",
    "\n",
    "print(\"Mean:\", s.mean(gaussian_distribution()))\n",
    "print(\"Standard Deviation:\", s.stdev(gaussian_distribution()))\n"
   ]
  },
  {
   "cell_type": "markdown",
   "metadata": {},
   "source": [
    "The non-standard library [py-sudoku](https://pypi.org/project/py-sudoku/) offers the possibility to create your own sudokus.\n",
    "\n",
    "Follow the above link and have a look how to install and use the library. Install the library and create a new sudoku with a difficulty of 0.7.\n",
    "\n",
    "Display the sudoku and the solution of the sudoku.\n",
    "\n",
    "**Hint**\n",
    "\n",
    "In CodeOcean we already installed the library for you. You only need to install the library on your local computer."
   ]
  },
  {
   "cell_type": "code",
   "execution_count": 34,
   "metadata": {},
   "outputs": [
    {
     "name": "stdout",
     "output_type": "stream",
     "text": [
      "+-------+-------+-------+\n",
      "|   1   |       |       |\n",
      "|   5   |     4 |   2   |\n",
      "|   6 7 |     9 | 1     |\n",
      "+-------+-------+-------+\n",
      "|       |     8 | 6     |\n",
      "|   8   | 9     | 3     |\n",
      "|   9 3 | 6   5 |       |\n",
      "+-------+-------+-------+\n",
      "| 6     | 4     |       |\n",
      "|       | 7     |   6 1 |\n",
      "| 9     |     2 |   8   |\n",
      "+-------+-------+-------+\n",
      "\n",
      "+-------+-------+-------+\n",
      "| 2 1 9 | 8 3 6 | 5 4 7 |\n",
      "| 3 5 8 | 1 7 4 | 9 2 6 |\n",
      "| 4 6 7 | 2 5 9 | 1 3 8 |\n",
      "+-------+-------+-------+\n",
      "| 5 2 4 | 3 1 8 | 6 7 9 |\n",
      "| 1 8 6 | 9 2 7 | 3 5 4 |\n",
      "| 7 9 3 | 6 4 5 | 8 1 2 |\n",
      "+-------+-------+-------+\n",
      "| 6 3 2 | 4 8 1 | 7 9 5 |\n",
      "| 8 4 5 | 7 9 3 | 2 6 1 |\n",
      "| 9 7 1 | 5 6 2 | 4 8 3 |\n",
      "+-------+-------+-------+\n",
      "\n"
     ]
    }
   ],
   "source": [
    "from sudoku import Sudoku\n",
    "\n",
    "puzzle = Sudoku(3).difficulty(0.7)\n",
    "puzzle.show()\n",
    "\n",
    "solution = puzzle.solve()\n",
    "solution.show()"
   ]
  },
  {
   "cell_type": "markdown",
   "metadata": {},
   "source": [
    "**Accessing the Apple iTunes Search Service**\n",
    "\n",
    "In this assignment you are going to build a Python program to access the Apple iTunes Search Service. This service can be used to search information about musicians, albums, songs and so on.\n",
    "\n",
    "Using the following URL, a search for the term *ramones* and for the entity type *album* is performed: [https://itunes.apple.com/search?term=ramones&entity=album](https://itunes.apple.com/search?term=ramones&entity=album)\n",
    "\n",
    "Other possible entity types are musicArtist, musicTrack or song. Below is an (abbreviated) example result of the service:\n",
    "```json\n",
    "{\n",
    "\"resultCount\": 1,\n",
    "\"results\": [\n",
    "    {\n",
    "    \"wrapperType\": \"collection\",\n",
    "    \"collectionType\": \"Album\",\n",
    "    \"artistId\": 60715,\n",
    "    \"amgArtistId\": 5223,\n",
    "    \"artistName\": \"Ramones\",\n",
    "    \"collectionName\": \"Ramones\",\n",
    "    \"collectionPrice\": 9.99,\n",
    "    \"collectionExplicitness\": \"notExplicit\",\n",
    "    \"trackCount\": 14,\n",
    "    \"copyright\": \"℗ 1976 Sire Records. Marketed by Rhino Entertainment Company, a Warner Music Group Company.\",\n",
    "    \"country\": \"USA\",\n",
    "    \"currency\": \"USD\",\n",
    "    \"releaseDate\": \"1976-04-23T08:00:00Z\",\n",
    "    \"primaryGenreName\": \"Punk\"\n",
    "    }\n",
    "]\n",
    "}\n",
    "```\n",
    "The response in the example above consists of one result (`resultCount` is 1). This result is the album \"Ramones\" (element `collectionName`) by the artist \"Ramones\" (element `artistName`). The response is in `JSON` format.\n",
    "\n",
    "The [Requests](https://docs.python-requests.org/en/latest/) library can be used to invoke the Apple iTunes Search Service. In order to perform a search a GET request needs to be performed. This is done using the get() function of the Requests library. After that, the method json() of the Requests library can be used to map the response from JSON to the Python 🐍 data types dict and list.\n",
    "\n",
    "---\n",
    "\n",
    "**Assignment**\n",
    "\n",
    "Write a program that asks the user for a search term. Perform a search using the iTunes search service for the entity type album. The program should then print how many search results where returned. For each result print the artist name, the album name and track count.\n",
    "\n",
    "Below is an example execution of the program. Note that the output is abbreviated.\n",
    "```\n",
    "Please enter a search term: cash\n",
    "The search returned 50 results.\n",
    "Artist: Luke Bryan - Album: Crash My Party - Track Count: 13\n",
    "Artist: Johnny Cash - Album: The Essential Johnny Cash - Track Count: 36\n",
    "Artist: Dave Matthews Band - Album: Crash - Track Count: 12\n",
    "```\n",
    "\n",
    "**Hints**\n",
    "- In Code Ocean it is not possible to access the iTunes search API. Therefore you should write and test your program on your own computer e.g. in a Jupyter notebook.\n",
    "- Our tests in Code Ocean use a [mock object](https://en.wikipedia.org/wiki/Mock_object) to check your program. Therefore only the `get()` function and the `json()` method are supported. All other functions and methods of the Requests library will **not** work."
   ]
  },
  {
   "cell_type": "code",
   "execution_count": 54,
   "metadata": {},
   "outputs": [
    {
     "name": "stdout",
     "output_type": "stream",
     "text": [
      "The search returned 50 results.\n",
      "Artist: Letuce - Album: Manja Perene - Track Count: 13\n",
      "Artist: Elvy Sukaesih - Album: Manja - Single - Track Count: 1\n",
      "Artist: Nish - Album: Manja - Single - Track Count: 1\n",
      "Artist: Protokhal - Album: Manja - Single - Track Count: 1\n",
      "Artist: Zacky Jimah - Album: Manja - Single - Track Count: 1\n",
      "Artist: Benny Balts - Album: Manja - Single - Track Count: 1\n",
      "Artist: JAKE G.I.B - Album: Manja - Single - Track Count: 1\n",
      "Artist: Sony Dhugga & Deep Jandu - Album: Manja - Single - Track Count: 1\n",
      "Artist: Roy Bimantoro - Album: Manja - Single - Track Count: 1\n",
      "Artist: Sejo John & Jessin George - Album: Manja (Original Motion Picture Soundtrack) - Track Count: 3\n",
      "Artist: Zacky Jimah - Album: Manja - Track Count: 12\n",
      "Artist: Osh from the Ghost - Album: Manja - Track Count: 7\n",
      "Artist: Farra Ahmad - Album: Manja - Single - Track Count: 1\n",
      "Artist: Roy Bimantoro - Album: Manja - Single - Track Count: 1\n",
      "Artist: Karan Aujla & Deep Jandu - Album: Manja - Single - Track Count: 1\n",
      "Artist: N.R. Raghunanthan - Album: Manja Pai (Original Motion Picture Soundtrack) - EP - Track Count: 5\n",
      "Artist: Phillip Langshaw, Bremer RathsChor, New Bremen Raths Philharmonic Orchestra, Manja Stephan, Wolfgang Helbich, Clemens-C. Loschmann, Agnieszka Tomaszewska & Catherine Wyn-Rogers - Album: Bach: Christmas Oratorio - Track Count: 65\n",
      "Artist: Stefan Burkhardt, Manja Raschka & Felix Plock - Album: Jubilee Edition 2012: Songs and Chamber Music - Track Count: 24\n",
      "Artist: Knut Schoch, Wolf Matthias Friedrich, Monika Mauch, Julian Podger, Manfred Cordes, Bremen Weser-Renaissance, Mirko Ludwig, Manja Stephan & Beat Duddeck - Album: Selle, T.: Auferstehung Christi (Die) (Historia - Sacred Concertos and Motets for Easter) - Track Count: 8\n",
      "Artist: Stefan Burkhardt, Ulrike Fulde & Manja Raschke - Album: Felix Weingartner Lieder - Track Count: 30\n",
      "Artist: Sunil Chouhan - Album: Baat Maanja Meri Mahendra - Single - Track Count: 1\n",
      "Artist: Suresh Kumar Nodhiya - Album: Maanja Chhori - Track Count: 7\n",
      "Artist: Various Artists - Album: Man Ja - Track Count: 11\n",
      "Artist: Vivek Kar, Kishan S.S. & Manoj Srihari - Album: Maanja (Original Motion Picture Soundtrack) - EP - Track Count: 5\n",
      "Artist: Mani Sharma - Album: Maanja Velu (Original Motion Picture Soundtrack) - Track Count: 6\n",
      "Artist: BigMoney - Album: Maanja - Single - Track Count: 1\n",
      "Artist: Elena Manja - Album: This Moonlit Night - Track Count: 12\n",
      "Artist: Oktavia Zahra - Album: Sentuhan Cinta Manja Manja Dj Ful Bass - Single - Track Count: 1\n",
      "Artist: Zahra Phit Macela - Album: Sentuhan Cinta Manja Manja Dj Remix Ful Bass - Single - Track Count: 1\n",
      "Artist: Krishna & Ganesh Ragavendra - Album: Engenga Theduven (From 'Manja Satta Pacha Satta\") - Single - Track Count: 1\n",
      "Artist: Manja Vlachogianni - Album: A Musical Dream - Track Count: 7\n",
      "Artist: Lil Rivotril - Album: Manja Rola - Single - Track Count: 1\n",
      "Artist: Prinz Jay Perosky - Album: Chukwu Neme (feat. Job Manja) - Single - Track Count: 1\n",
      "Artist: Giridhar Devan - Album: Melukote Manja (Original Motion Picture Soundtrack) - EP - Track Count: 6\n",
      "Artist: Ganesh Raghavendra - Album: Manja Satta Pacha Satta (Original Motion Picture Soundtrack) - EP - Track Count: 4\n",
      "Artist: Suraiya Soomro - Album: Manja Janira - Track Count: 10\n",
      "Artist: Sanathan Shree Krishnan - Album: Manja Color Dabba - Single - Track Count: 1\n",
      "Artist: Agan Rmx - Album: Jangan Manja Sayang Plis Mengkane - Single - Track Count: 1\n",
      "Artist: Anagha V - Album: Manja Satta Maasu - Single - Track Count: 1\n",
      "Artist: Daniel Alexander - Album: Kristen Yang Manja - Track Count: 6\n",
      "Artist: Madyba X HypeMada - Album: Gasy Ka Manja - Single - Track Count: 1\n",
      "Artist: Agan Rmx - Album: Jangan Manja Sayang Plis - Single - Track Count: 1\n",
      "Artist: Verdiani Ve - Album: Lagi Manja - Single - Track Count: 1\n",
      "Artist: Adi Supriyadi - Album: Manis Manja - Single - Track Count: 1\n",
      "Artist: Shaad Singariya - Album: Manja Tosu Nu Kheri - Single - Track Count: 1\n",
      "Artist: Ali Alatas - Album: Bukan Benci Tapi Manja - Single - Track Count: 1\n",
      "Artist: Nishan Uchewala & Sukhdeep Gill - Album: Manja Dahuna Bhul Gayi - Single - Track Count: 1\n",
      "Artist: SURENDRANATH BR - Album: KOLI MANJA - Single - Track Count: 1\n",
      "Artist: Swing Doz Patrao - Album: Vai Manja - Single - Track Count: 1\n",
      "Artist: Valenz - Album: I Need to Love Her (feat. Hopez & Manja) - Single - Track Count: 1\n"
     ]
    }
   ],
   "source": [
    "import requests\n",
    "\n",
    "search_term = input('Please enter a search term: ')\n",
    "\n",
    "iTUNES_API_URL = 'https://itunes.apple.com/'\n",
    "\n",
    "def get_itunes_data():\n",
    "    try:\n",
    "        req = requests.get(iTUNES_API_URL + f'/search/?term={search_term}&entity=album')\n",
    "        if req.status_code == 200:\n",
    "            response = req.json()\n",
    "            resultCount = response['resultCount']\n",
    "            res = response['results']\n",
    "            data = True, resultCount, res\n",
    "        else:\n",
    "            data = False, 0, []\n",
    "        return data \n",
    "    except Exception as exp:\n",
    "        print('Something Failed\\n', exp)\n",
    "\n",
    "isSuccess, count, results = get_itunes_data()\n",
    "\n",
    "if isSuccess:\n",
    "    print(f'The search returned {count} results.')\n",
    "    for data in results:\n",
    "        print(f\"Artist: {data['artistName']} - Album: {data['collectionName']} - Track Count: {data['trackCount']}\")\n"
   ]
  },
  {
   "cell_type": "code",
   "execution_count": 63,
   "metadata": {},
   "outputs": [
    {
     "name": "stdout",
     "output_type": "stream",
     "text": [
      "Something Failed\n",
      " 'charmap' codec can't decode byte 0x8f in position 3334: character maps to <undefined>\n"
     ]
    },
    {
     "ename": "TypeError",
     "evalue": "cannot unpack non-iterable NoneType object",
     "output_type": "error",
     "traceback": [
      "\u001b[1;31m---------------------------------------------------------------------------\u001b[0m",
      "\u001b[1;31mTypeError\u001b[0m                                 Traceback (most recent call last)",
      "\u001b[1;32mf:\\Python\\opensap-python1\\Week 6\\week6_assignments.ipynb Cell 7'\u001b[0m in \u001b[0;36m<module>\u001b[1;34m\u001b[0m\n\u001b[0;32m     <a href='vscode-notebook-cell:/f%3A/Python/opensap-python1/Week%206/week6_assignments.ipynb#ch0000008?line=20'>21</a>\u001b[0m     \u001b[39mexcept\u001b[39;00m \u001b[39mException\u001b[39;00m \u001b[39mas\u001b[39;00m exp:\n\u001b[0;32m     <a href='vscode-notebook-cell:/f%3A/Python/opensap-python1/Week%206/week6_assignments.ipynb#ch0000008?line=21'>22</a>\u001b[0m         \u001b[39mprint\u001b[39m(\u001b[39m'\u001b[39m\u001b[39mSomething Failed\u001b[39m\u001b[39m\\n\u001b[39;00m\u001b[39m'\u001b[39m, exp)\n\u001b[1;32m---> <a href='vscode-notebook-cell:/f%3A/Python/opensap-python1/Week%206/week6_assignments.ipynb#ch0000008?line=23'>24</a>\u001b[0m isSuccess, count, results \u001b[39m=\u001b[39m get_itunes_data()\n\u001b[0;32m     <a href='vscode-notebook-cell:/f%3A/Python/opensap-python1/Week%206/week6_assignments.ipynb#ch0000008?line=25'>26</a>\u001b[0m \u001b[39mif\u001b[39;00m isSuccess:\n\u001b[0;32m     <a href='vscode-notebook-cell:/f%3A/Python/opensap-python1/Week%206/week6_assignments.ipynb#ch0000008?line=26'>27</a>\u001b[0m     \u001b[39mprint\u001b[39m(\u001b[39mf\u001b[39m\u001b[39m'\u001b[39m\u001b[39mThe search returned \u001b[39m\u001b[39m{\u001b[39;00mcount\u001b[39m}\u001b[39;00m\u001b[39m results.\u001b[39m\u001b[39m'\u001b[39m)\n",
      "\u001b[1;31mTypeError\u001b[0m: cannot unpack non-iterable NoneType object"
     ]
    }
   ],
   "source": [
    "import requests\n",
    "\n",
    "# search_term = input('Please enter a search term: ')\n",
    "\n",
    "iTUNES_API_URL = 'https://itunes.apple.com/'\n",
    "\n",
    "def get_itunes_data():\n",
    "    try:\n",
    "        with open('./mock_search_result_computer.json', mode='r') as file:\n",
    "          file_content = file.readlines()\n",
    "          print(file_content)\n",
    "        # req = requests.get('https://codeocean.openhpi.de/submissions/42712741/render/mock_search_result_computer.json.json')\n",
    "        # if req.status_code == 200:\n",
    "        #     response = req.json()\n",
    "        #     resultCount = response['resultCount']\n",
    "        #     res = response['results']\n",
    "        #     data = True, resultCount, res\n",
    "        # else:\n",
    "        #     data = False, 0, []\n",
    "        # return data \n",
    "    except Exception as exp:\n",
    "        print('Something Failed\\n', exp)\n",
    "\n",
    "isSuccess, count, results = get_itunes_data()\n",
    "\n",
    "if isSuccess:\n",
    "    print(f'The search returned {count} results.')\n",
    "    for data in results:\n",
    "        print(f\"Artist: {data['artistName']} - Album: {data['collectionName']} - Track Count: {data['trackCount']}\")\n"
   ]
  }
 ],
 "metadata": {
  "interpreter": {
   "hash": "59ce6dbdd76e776e9e10b49ce982af4e91010ef955c13f95e83c380aeaa49b6f"
  },
  "kernelspec": {
   "display_name": "Python 3.10.1 64-bit",
   "language": "python",
   "name": "python3"
  },
  "language_info": {
   "codemirror_mode": {
    "name": "ipython",
    "version": 3
   },
   "file_extension": ".py",
   "mimetype": "text/x-python",
   "name": "python",
   "nbconvert_exporter": "python",
   "pygments_lexer": "ipython3",
   "version": "3.10.1"
  },
  "orig_nbformat": 4
 },
 "nbformat": 4,
 "nbformat_minor": 2
}
